{
 "cells": [
  {
   "cell_type": "markdown",
   "metadata": {},
   "source": [
    "### Question 1"
   ]
  },
  {
   "cell_type": "markdown",
   "metadata": {},
   "source": [
    "Counter.count is a class variable that keeps track of the count for the entire class.\n",
    "self._count is a instance variable that keeps track of the count for an instance of the Counter class."
   ]
  },
  {
   "cell_type": "markdown",
   "metadata": {},
   "source": [
    "print(a.get_counts()) will return: Instance count: 2, Class count:3\n",
    "\n",
    "print(b.get_counts()) will return: Instance count: 1, Class count:3\n",
    "\n",
    "This is because the class count increases every time the increment function is called, but the instance count will only increase when the function is called on that particular object"
   ]
  },
  {
   "cell_type": "markdown",
   "metadata": {},
   "source": [
    "### Question 2"
   ]
  },
  {
   "cell_type": "code",
   "execution_count": 7,
   "metadata": {},
   "outputs": [
    {
     "name": "stdout",
     "output_type": "stream",
     "text": [
      "Sum of 1, 2, 3, is: 6\n",
      "Sum of 4, 5, 6, 7, is: 22\n"
     ]
    }
   ],
   "source": [
    "# The bug is that the function is only set to take one argument\n",
    "# We can use *args to make it take multiple\n",
    "\n",
    "def sum_all(*args):\n",
    "    return sum(args)\n",
    "\n",
    "print(\"Sum of 1, 2, 3, is:\", sum_all(1,2,3))\n",
    "print(\"Sum of 4, 5, 6, 7, is:\", sum_all(4,5,6,7))"
   ]
  },
  {
   "cell_type": "markdown",
   "metadata": {},
   "source": [
    "### Question 3"
   ]
  },
  {
   "cell_type": "code",
   "execution_count": 8,
   "metadata": {},
   "outputs": [
    {
     "data": {
      "text/plain": [
       "'Bartholomew'"
      ]
     },
     "execution_count": 8,
     "metadata": {},
     "output_type": "execute_result"
    }
   ],
   "source": [
    "def sort_strings(strings):\n",
    "    # sorts the list\n",
    "    sorted_list = sorted(strings)\n",
    "\n",
    "    # returns the first element in the sorted list\n",
    "    return sorted_list[0]\n",
    "\n",
    "\n",
    "sort_strings(['Mary', 'Zelda', 'Jimmy', 'Jack', 'Bartholomew', 'Gertrude'])"
   ]
  },
  {
   "cell_type": "markdown",
   "metadata": {},
   "source": [
    "### Question 4"
   ]
  },
  {
   "cell_type": "code",
   "execution_count": 18,
   "metadata": {},
   "outputs": [],
   "source": [
    "class Employee:\n",
    "    # increments the class variables every time in __init__ method is called\n",
    "    n_employees = 0\n",
    "    total_yearly_salaries = 0\n",
    "\n",
    "    # instantiates an employee object, incrementing the number of employees and total salary\n",
    "    def __init__(self, name, family, salary, department):\n",
    "        self.name = name\n",
    "        self.family = family\n",
    "        self.salary = salary\n",
    "        self.department = department\n",
    "\n",
    "        Employee.n_employees += 1\n",
    "        Employee.total_yearly_salaries += salary\n",
    "        \n",
    "    def average_salary():\n",
    "        return Employee.total_yearly_salaries / Employee.n_employees\n",
    "    \n",
    "# fulltime class which inherits Employee class properties\n",
    "class Fulltime(Employee):\n",
    "    pass"
   ]
  },
  {
   "cell_type": "code",
   "execution_count": 21,
   "metadata": {},
   "outputs": [
    {
     "name": "stdout",
     "output_type": "stream",
     "text": [
      "John Smith 100000 Sales\n",
      "Susan Jones 50000 Accounting\n",
      "Average Salary: 75000.0\n",
      "Number of employees: 6\n"
     ]
    }
   ],
   "source": [
    "John = Employee('John', 'Smith', 100000, 'Sales')\n",
    "Susan = Fulltime('Susan', 'Jones', 50000, 'Accounting')\n",
    "\n",
    "print(John.name, John.family, John.salary, John.department)\n",
    "print(Susan.name, Susan.family, Susan.salary, Susan.department)\n",
    "\n",
    "print(f'Average Salary: {Employee.average_salary()}')\n",
    "print(f'Number of employees: {Employee.n_employees}')\n",
    "\n"
   ]
  }
 ],
 "metadata": {
  "kernelspec": {
   "display_name": "Python 3",
   "language": "python",
   "name": "python3"
  },
  "language_info": {
   "codemirror_mode": {
    "name": "ipython",
    "version": 3
   },
   "file_extension": ".py",
   "mimetype": "text/x-python",
   "name": "python",
   "nbconvert_exporter": "python",
   "pygments_lexer": "ipython3",
   "version": "3.11.4"
  }
 },
 "nbformat": 4,
 "nbformat_minor": 2
}
