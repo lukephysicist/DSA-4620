{
  "nbformat": 4,
  "nbformat_minor": 0,
  "metadata": {
    "colab": {
      "provenance": []
    },
    "kernelspec": {
      "name": "python3",
      "display_name": "Python 3"
    },
    "language_info": {
      "name": "python"
    }
  },
  "cells": [
    {
      "cell_type": "code",
      "execution_count": 1,
      "metadata": {
        "id": "AeQmUnAoQEak"
      },
      "outputs": [],
      "source": [
        "from pyspark import SparkContext, SparkConf\n",
        "sc = SparkContext(\"local\", \"First App\")\n",
        "\n",
        "numbers = sc.parallelize(list(range(1,16)))"
      ]
    },
    {
      "cell_type": "code",
      "source": [
        "print(\"Elements:\", numbers.collect())\n",
        "print(\"Number of partitions:\", numbers.getNumPartitions())"
      ],
      "metadata": {
        "colab": {
          "base_uri": "https://localhost:8080/"
        },
        "id": "-YiylYCMQaNJ",
        "outputId": "c5de4bee-b9e0-4a52-d606-4e8b9fb67cbe"
      },
      "execution_count": 2,
      "outputs": [
        {
          "output_type": "stream",
          "name": "stdout",
          "text": [
            "Elements: [1, 2, 3, 4, 5, 6, 7, 8, 9, 10, 11, 12, 13, 14, 15]\n",
            "Number of partitions: 1\n"
          ]
        }
      ]
    },
    {
      "cell_type": "code",
      "source": [
        "numbers.collect()[0]"
      ],
      "metadata": {
        "colab": {
          "base_uri": "https://localhost:8080/"
        },
        "id": "Q62gHMglQdoT",
        "outputId": "287fad56-d9bb-4e25-c8a8-e454ab971a5b"
      },
      "execution_count": 3,
      "outputs": [
        {
          "output_type": "execute_result",
          "data": {
            "text/plain": [
              "1"
            ]
          },
          "metadata": {},
          "execution_count": 3
        }
      ]
    },
    {
      "cell_type": "code",
      "source": [
        "evens = numbers.filter(lambda x: x % 2 == 0)"
      ],
      "metadata": {
        "id": "Qv2vBHPIQjV2"
      },
      "execution_count": 4,
      "outputs": []
    },
    {
      "cell_type": "code",
      "source": [
        "print(evens.collect())"
      ],
      "metadata": {
        "colab": {
          "base_uri": "https://localhost:8080/"
        },
        "id": "Wb1PDEB-Qtmb",
        "outputId": "7d7317e0-54dd-43f6-91a5-7cc81a4f603d"
      },
      "execution_count": 5,
      "outputs": [
        {
          "output_type": "stream",
          "name": "stdout",
          "text": [
            "[2, 4, 6, 8, 10, 12, 14]\n"
          ]
        }
      ]
    },
    {
      "cell_type": "code",
      "source": [
        "squares = evens.map(lambda x: x ** 2)\n",
        "print(squares.collect())"
      ],
      "metadata": {
        "colab": {
          "base_uri": "https://localhost:8080/"
        },
        "id": "xNjMjXfMQuVV",
        "outputId": "ee3f3b61-06ac-4b1f-d147-bd33e9c35c16"
      },
      "execution_count": 6,
      "outputs": [
        {
          "output_type": "stream",
          "name": "stdout",
          "text": [
            "[4, 16, 36, 64, 100, 144, 196]\n"
          ]
        }
      ]
    },
    {
      "cell_type": "code",
      "source": [
        "agg = squares.reduce(lambda x, y: x + y)\n",
        "print(agg)"
      ],
      "metadata": {
        "colab": {
          "base_uri": "https://localhost:8080/"
        },
        "id": "jrMy4ibqQ6Ii",
        "outputId": "e4bde634-009d-4e0f-80b4-996652fb8ee2"
      },
      "execution_count": 7,
      "outputs": [
        {
          "output_type": "stream",
          "name": "stdout",
          "text": [
            "560\n"
          ]
        }
      ]
    },
    {
      "cell_type": "code",
      "source": [
        "squares.saveAsTextFile(r\"\\Users\\ldwen\\Documents\\Big_Data_Analytics\\DSA-4620\\ICP_8\\hdd.txt\")"
      ],
      "metadata": {
        "id": "9sgU0OGURb1F"
      },
      "execution_count": 9,
      "outputs": []
    },
    {
      "cell_type": "code",
      "source": [
        "list1 = sc.parallelize(list(range(1,6)))\n",
        "list2 = sc.parallelize(list(range(6,11)))\n",
        "\n",
        "combo = list1.union(list2)\n",
        "print(combo.collect())"
      ],
      "metadata": {
        "colab": {
          "base_uri": "https://localhost:8080/"
        },
        "id": "OfV4bZxpSI4F",
        "outputId": "e985bcde-b0c0-4877-c25c-bce276ae4d1f"
      },
      "execution_count": 10,
      "outputs": [
        {
          "output_type": "stream",
          "name": "stdout",
          "text": [
            "[1, 2, 3, 4, 5, 6, 7, 8, 9, 10]\n"
          ]
        }
      ]
    },
    {
      "cell_type": "code",
      "source": [
        "cart = list1.cartesian(list2)\n",
        "print(cart.collect())"
      ],
      "metadata": {
        "colab": {
          "base_uri": "https://localhost:8080/"
        },
        "id": "h550zqduGOla",
        "outputId": "76c953f9-f3c2-4b46-e6cc-65ac40171a4d"
      },
      "execution_count": 11,
      "outputs": [
        {
          "output_type": "stream",
          "name": "stdout",
          "text": [
            "[(1, 6), (1, 7), (1, 8), (1, 9), (1, 10), (2, 6), (2, 7), (2, 8), (2, 9), (2, 10), (3, 6), (3, 7), (3, 8), (3, 9), (3, 10), (4, 6), (4, 7), (4, 8), (4, 9), (4, 10), (5, 6), (5, 7), (5, 8), (5, 9), (5, 10)]\n"
          ]
        }
      ]
    },
    {
      "cell_type": "code",
      "source": [
        "dictionary = {'a':1, 'b':2, 'c':3, 'd':4, 'e':5}\n",
        "rdd_dict = sc.parallelize(dictionary.items())\n",
        "\n",
        "print(rdd_dict.collect())\n"
      ],
      "metadata": {
        "colab": {
          "base_uri": "https://localhost:8080/"
        },
        "id": "CtHYyrhZHAEK",
        "outputId": "545c3ec1-2690-4fe3-d17b-1987c7dacfbf"
      },
      "execution_count": 12,
      "outputs": [
        {
          "output_type": "stream",
          "name": "stdout",
          "text": [
            "[('a', 1), ('b', 2), ('c', 3), ('d', 4), ('e', 5)]\n"
          ]
        }
      ]
    },
    {
      "cell_type": "code",
      "source": [
        "sample = sc.parallelize([1,5,9,9,1,2,5,2,4,8,5,4])\n",
        "\n",
        "count = sample.countByValue()\n",
        "print(count)"
      ],
      "metadata": {
        "colab": {
          "base_uri": "https://localhost:8080/"
        },
        "id": "38DxvqByHn3l",
        "outputId": "8579846e-e007-44b5-ba1b-dbe55531f143"
      },
      "execution_count": 13,
      "outputs": [
        {
          "output_type": "stream",
          "name": "stdout",
          "text": [
            "defaultdict(<class 'int'>, {1: 2, 5: 3, 9: 2, 2: 2, 4: 2, 8: 1})\n"
          ]
        }
      ]
    },
    {
      "cell_type": "code",
      "source": [
        "hdd = sc.parallelize([1,2,3,4,5])\n",
        "hdd.saveAsTextFile(r\"\\Users\\ldwen\\Documents\\Big_Data_Analytics\\DSA-4620\\ICP_8\\hdd2.txt\")\n",
        "combination = sc.textFile(r\"\\Users\\ldwen\\Documents\\Big_Data_Analytics\\DSA-4620\\ICP_8\\hdd.txt, \\Users\\ldwen\\Documents\\Big_Data_Analytics\\DSA-4620\\ICP_8\\hdd.txt\")"
      ],
      "metadata": {
        "id": "Eue5i00tNf_F"
      },
      "execution_count": null,
      "outputs": []
    },
    {
      "cell_type": "code",
      "source": [
        "\n",
        "rdd = sc.parallelize([\"Line 1\", \"Line 2\", \"Line 3\", \"Line 4\", \"Line 5\", \"Line 6\"])\n",
        "\n",
        "print(rdd.take(5))"
      ],
      "metadata": {
        "colab": {
          "base_uri": "https://localhost:8080/"
        },
        "id": "HdQ6TQG8PT1c",
        "outputId": "72ea461b-1326-4341-c740-ac7df0fb07f6"
      },
      "execution_count": 22,
      "outputs": [
        {
          "output_type": "stream",
          "name": "stdout",
          "text": [
            "['Line 1', 'Line 2', 'Line 3', 'Line 4', 'Line 5']\n"
          ]
        }
      ]
    },
    {
      "cell_type": "code",
      "source": [
        "from pyspark.sql import SparkSession\n",
        "\n",
        "spark = SparkSession.builder.appName(\"Datafrane\").getOrCreate()\n",
        "\n",
        "data = [('a',1),('b',2),('c',3)]\n",
        "df = spark.createDataFrame(data, ['letter', 'number'])\n",
        "df.show()"
      ],
      "metadata": {
        "colab": {
          "base_uri": "https://localhost:8080/"
        },
        "id": "_ZaEmql5QgQ4",
        "outputId": "3abe2a36-8b2f-4b4f-ab6f-5a706f34c141"
      },
      "execution_count": 24,
      "outputs": [
        {
          "output_type": "stream",
          "name": "stdout",
          "text": [
            "+------+------+\n",
            "|letter|number|\n",
            "+------+------+\n",
            "|     a|     1|\n",
            "|     b|     2|\n",
            "|     c|     3|\n",
            "+------+------+\n",
            "\n"
          ]
        }
      ]
    },
    {
      "cell_type": "code",
      "source": [
        "\"\"\"The RDD could hold this, but it cant be tabular:\n",
        "[('a',1),('b',2),('c',3)]\n",
        "\"\"\"\n",
        "\n",
        "# The dataframe is tabular:\n",
        "import pandas as pd\n",
        "df = pd.DataFrame(data, columns=['letter', 'number'])\n",
        "\n",
        "# The dataset above is a dataframe saved in an rdd.\n"
      ],
      "metadata": {
        "id": "kGG4bN_sR6ud"
      },
      "execution_count": null,
      "outputs": []
    }
  ]
}